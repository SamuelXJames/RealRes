{
  "nbformat": 4,
  "nbformat_minor": 0,
  "metadata": {
    "accelerator": "GPU",
    "colab": {
      "name": "ESRGAN.ipynb",
      "provenance": [],
      "collapsed_sections": [],
      "toc_visible": true,
      "mount_file_id": "1bvxf1q0VpSFo8KFaU3V1N-rSSyKRAy73",
      "authorship_tag": "ABX9TyOEQiDqqd2dj6AABb86EFxy",
      "include_colab_link": true
    },
    "kernelspec": {
      "display_name": "Python 3",
      "name": "python3"
    }
  },
  "cells": [
    {
      "cell_type": "markdown",
      "metadata": {
        "id": "view-in-github",
        "colab_type": "text"
      },
      "source": [
        "<a href=\"https://colab.research.google.com/github/SamuelXJames/RealRes/blob/main/models/ESRGAN.ipynb\" target=\"_parent\"><img src=\"https://colab.research.google.com/assets/colab-badge.svg\" alt=\"Open In Colab\"/></a>"
      ]
    },
    {
      "cell_type": "markdown",
      "metadata": {
        "id": "X-g3dIDSBX5m"
      },
      "source": [
        "\n",
        "\n",
        "# ESRGAN\n",
        "### ISR Implementation\n",
        "\n",
        "This code trains ESRGAN using LR images from realistic kernels"
      ]
    },
    {
      "cell_type": "markdown",
      "metadata": {
        "id": "vWeHOyqoptAu"
      },
      "source": [
        "## Connect to Google Cloud Storage (GCS)\n",
        "\n",
        "The images are stored on a GCS bucket. Alternatively, they can be stored locally or on Google Drive \n",
        "\n"
      ]
    },
    {
      "cell_type": "code",
      "metadata": {
        "id": "BSQ0NVhBXeAB"
      },
      "source": [
        "## IGNORE if storing kerenels locally or on Google Drive\n",
        "#Authenticare access to cloud storage\n",
        "!gcloud auth login\n",
        "\n",
        "#Set current GCS project\n",
        "!gcloud config set project superres000"
      ],
      "execution_count": null,
      "outputs": []
    },
    {
      "cell_type": "code",
      "metadata": {
        "id": "6TBbS4oiYkbg"
      },
      "source": [
        "## IGNORE if storing kerenels locally or on Google Drive\n",
        "#Setup google cloud sdk (seems to be necessary but could be redudant)\n",
        "from google.colab import auth\n",
        "auth.authenticate_user()"
      ],
      "execution_count": null,
      "outputs": []
    },
    {
      "cell_type": "markdown",
      "metadata": {
        "id": "KIsLSf8_rHnC"
      },
      "source": [
        "## Download Data from GCS\n",
        "\n",
        "The data can also be stored on Google Drive, however, downloading large files from Google Drive can take some time."
      ]
    },
    {
      "cell_type": "code",
      "metadata": {
        "id": "ssA6bc7qrHZc"
      },
      "source": [
        "!gsutil -m cp -r \"gs://super_res_train/DIV2K_train_LR_Real_X4/\" \"/content/\"\n",
        "!gsutil -m cp -r \"gs://super_res_train/idealo/Images/DIV2K_valid_HR/\" \"/content/\"\n",
        "!gsutil -m cp -r \"gs://super_res_train/DIV2K_valid_LR_Real_X4/\" \"/content/\"\n",
        "!gsutil -m cp -r \"gs://super_res_train/idealo/Images/DIV2K_train_HR/\" \"/content/\""
      ],
      "execution_count": null,
      "outputs": []
    },
    {
      "cell_type": "markdown",
      "metadata": {
        "id": "vsAoOSnf0umv"
      },
      "source": [
        "## Install Requirements\n",
        "Tensorflow-gpu  is installed as otherwise the gpu is not recognized. "
      ]
    },
    {
      "cell_type": "code",
      "metadata": {
        "id": "1QLhzzl2Ajvn"
      },
      "source": [
        "# Install requirements\n",
        "!pip install ISR\n",
        "!pip install wandb\n",
        "!pip uninstall tensorflow\n",
        "!pip install tensorflow-gpu"
      ],
      "execution_count": null,
      "outputs": []
    },
    {
      "cell_type": "code",
      "metadata": {
        "id": "6Vs7BYZy-p99"
      },
      "source": [
        "# This is used to verify the GPU is being utilized\n",
        "import wandb\n",
        "wandb.init()"
      ],
      "execution_count": null,
      "outputs": []
    },
    {
      "cell_type": "markdown",
      "metadata": {
        "id": "dBoxdv7Q1EMV"
      },
      "source": [
        "## Create ESRGAN Model"
      ]
    },
    {
      "cell_type": "code",
      "metadata": {
        "id": "c8vsx2zABXee"
      },
      "source": [
        "from ISR.models import RRDN\n",
        "from ISR.models import Discriminator\n",
        "from ISR.models import Cut_VGG19\n",
        "\n",
        "lr_train_patch_size = 40\n",
        "layers_to_extract = [5, 9]\n",
        "scale = 4\n",
        "hr_train_patch_size = lr_train_patch_size * scale\n",
        "\n",
        "rrdn  = RRDN(arch_params={'C':4, 'D':3, 'G':32, 'G0':64, 'T':10, 'x':scale}, patch_size=lr_train_patch_size)\n",
        "f_ext = Cut_VGG19(patch_size=hr_train_patch_size, layers_to_extract=layers_to_extract)\n",
        "discr = Discriminator(patch_size=hr_train_patch_size, kernel_size=3)\n",
        "\n",
        "# Needs to be updated each time weights are being reloaded\n",
        "gen_weights = None\n",
        "discr_weights = None\n",
        "from ISR.train import Trainer\n",
        "loss_weights = {\n",
        "  'generator': 0.0,\n",
        "  'feature_extractor': 0.0833,\n",
        "  'discriminator': 0.01\n",
        "}\n",
        "losses = {\n",
        "  'generator': 'mae',\n",
        "  'feature_extractor': 'mse',\n",
        "  'discriminator': 'binary_crossentropy'\n",
        "}\n",
        "\n",
        "log_dirs = {'logs': '/content/drive/MyDrive/idealo/x4/logs', 'weights': '/content/drive/MyDrive/idealo/x4/weights'}\n",
        "\n",
        "learning_rate = {'initial_value': 0.0008, 'decay_factor': 0.5, 'decay_frequency': 30}\n",
        "\n",
        "flatness = {'min': 0.0, 'max': 0.15, 'increase': 0.01, 'increase_frequency': 5}\n",
        "\n",
        "trainer = Trainer(\n",
        "    generator=rrdn,\n",
        "    discriminator=discr,\n",
        "    feature_extractor=f_ext,\n",
        "    lr_train_dir='/content/DIV2K_train_LR_Real_X4',\n",
        "    hr_train_dir='/content/DIV2K_train_HR',\n",
        "    lr_valid_dir='/content/DIV2K_valid_LR_Real_X4',\n",
        "    hr_valid_dir='/content/DIV2K_valid_HR',\n",
        "    loss_weights=loss_weights,\n",
        "    learning_rate=learning_rate,\n",
        "    flatness=flatness,\n",
        "    dataname='image_dataset',\n",
        "    log_dirs=log_dirs,\n",
        "    weights_generator=gen_weights,\n",
        "    weights_discriminator=discr_weights,\n",
        "    n_validation=100,\n",
        ")\n",
        "\n"
      ],
      "execution_count": null,
      "outputs": []
    },
    {
      "cell_type": "code",
      "metadata": {
        "colab": {
          "base_uri": "https://localhost:8080/"
        },
        "id": "-sa2Lnu6FEIi",
        "outputId": "29661a93-2bd9-41ec-fd73-95abda093cfe"
      },
      "source": [
        "!git clone https://github.com/idealo/image-super-resolution.git"
      ],
      "execution_count": null,
      "outputs": [
        {
          "output_type": "stream",
          "text": [
            "Cloning into 'image-super-resolution'...\n",
            "remote: Enumerating objects: 1157, done.\u001b[K\n",
            "remote: Total 1157 (delta 0), reused 0 (delta 0), pack-reused 1157\u001b[K\n",
            "Receiving objects: 100% (1157/1157), 14.94 MiB | 40.69 MiB/s, done.\n",
            "Resolving deltas: 100% (579/579), done.\n"
          ],
          "name": "stdout"
        }
      ]
    },
    {
      "cell_type": "markdown",
      "metadata": {
        "id": "eawqGd9C1LEi"
      },
      "source": [
        "## Verify the GPU is connected"
      ]
    },
    {
      "cell_type": "code",
      "metadata": {
        "colab": {
          "base_uri": "https://localhost:8080/",
          "height": 35
        },
        "id": "jRTrzLXuySP_",
        "outputId": "108ad326-1a57-4b96-99ce-124457b4db28"
      },
      "source": [
        "import tensorflow as tf\n",
        "tf.test.gpu_device_name()"
      ],
      "execution_count": null,
      "outputs": [
        {
          "output_type": "execute_result",
          "data": {
            "application/vnd.google.colaboratory.intrinsic+json": {
              "type": "string"
            },
            "text/plain": [
              "'/device:GPU:0'"
            ]
          },
          "metadata": {
            "tags": []
          },
          "execution_count": 2
        }
      ]
    },
    {
      "cell_type": "code",
      "metadata": {
        "id": "Xir1R9sG0ZQ8"
      },
      "source": [
        "# Setup tensorboard\n",
        "%load_ext tensorboard\n",
        "%tensorboard --logdir /content/drive/MyDrive/idealo/logs"
      ],
      "execution_count": null,
      "outputs": []
    },
    {
      "cell_type": "markdown",
      "metadata": {
        "id": "QH1Gl0Fm1QRv"
      },
      "source": [
        "## Train Model"
      ]
    },
    {
      "cell_type": "code",
      "metadata": {
        "colab": {
          "base_uri": "https://localhost:8080/"
        },
        "id": "xTQoBxq9tBKv",
        "outputId": "3d05e056-716b-4f76-e0ea-cbfb0f3e85fd"
      },
      "source": [
        "trainer.train(\n",
        "    epochs=80,\n",
        "    steps_per_epoch=500,\n",
        "    batch_size=16,\n",
        "    monitored_metrics={'val_loss': 'min'}\n",
        ")"
      ],
      "execution_count": null,
      "outputs": [
        {
          "output_type": "stream",
          "text": [
            "Could not find previous configuration\n",
            "\n",
            "Training details:\n",
            "  training_parameters: \n",
            "    metrics: {'generator': <function PSNR_Y at 0x7fb871be10d0>}\n",
            "    losses: {'generator': 'mae', 'discriminator': 'binary_crossentropy', 'feature_extractor': 'mse'}\n",
            "    adam_optimizer: {'beta1': 0.9, 'beta2': 0.999, 'epsilon': None}\n",
            "    learning_rate: {'initial_value': 0.0004, 'decay_factor': 0.5, 'decay_frequency': 30}\n",
            "    flatness: {'min': 0.0, 'max': 0.15, 'increase': 0.01, 'increase_frequency': 5}\n",
            "    n_validation: 100\n",
            "    dataname: image_dataset\n",
            "    fallback_save_every_n_epochs: 2\n",
            "    log_dirs: {'logs': '/content/drive/MyDrive/idealo/logs', 'weights': '/content/drive/MyDrive/idealo/weights'}\n",
            "    loss_weights: {'generator': 0.0, 'feature_extractor': 0.0833, 'discriminator': 0.01}\n",
            "    hr_valid_dir: /content/DIV2K_valid_HR\n",
            "    lr_valid_dir: /content/DIV2K_valid_LR_Real_X2\n",
            "    hr_train_dir: /content/DIV2K_train_HR\n",
            "    lr_train_dir: /content/DIV2K_train_LR_Real_X2\n",
            "    lr_patch_size: 40\n",
            "    steps_per_epoch: 500\n",
            "    batch_size: 16\n",
            "    starting_epoch: 61\n",
            "  generator: \n",
            "    name: rrdn\n",
            "    parameters: {'C': 4, 'D': 3, 'G': 64, 'G0': 64, 'T': 10, 'x': 2}\n",
            "    weights_generator: /content/drive/MyDrive/idealo/Saved_Models/rrdn-C4-D3-G64-G064-T10-x2_best-val_loss_epoch061.hdf5\n",
            "  discriminator: \n",
            "    name: srgan-large\n",
            "    weights_discriminator: /content/drive/MyDrive/idealo/Saved_Models/srgan-large_best-val_loss_epoch061.hdf5\n",
            "  feature_extractor: \n",
            "    name: vgg19\n",
            "    layers: [5, 9]\n"
          ],
          "name": "stderr"
        },
        {
          "output_type": "stream",
          "text": [
            "WARNING:tensorflow:Model failed to serialize as JSON. Ignoring... can't pickle _thread.RLock objects\n"
          ],
          "name": "stdout"
        },
        {
          "output_type": "stream",
          "text": [
            "Epoch 61/80\n",
            "Current learning rate: 9.999999747378752e-05\n",
            "Current flatness treshold: 0.12\n",
            "100%|██████████| 500/500 [09:24<00:00,  1.13s/it]\n",
            "Epoch 61 took      564.7s\n"
          ],
          "name": "stderr"
        },
        {
          "output_type": "stream",
          "text": [
            "  2/100 [..............................] - ETA: 17s - loss: 0.2299 - generator_loss: 0.6918 - discriminator_loss: 0.1576 - feature_extractor_loss: 1.2653 - feature_extractor_1_loss: 4.2168 - generator_PSNR_Y: 11.2322WARNING:tensorflow:Callbacks method `on_test_batch_end` is slow compared to the batch time (batch time: 0.0528s vs `on_test_batch_end` time: 0.1388s). Check your callbacks.\n",
            "100/100 [==============================] - 19s 191ms/step - loss: 0.3305 - generator_loss: 0.7355 - discriminator_loss: 0.1671 - feature_extractor_loss: 2.0930 - feature_extractor_1_loss: 5.8031 - generator_PSNR_Y: 10.7570\n"
          ],
          "name": "stdout"
        },
        {
          "output_type": "stream",
          "text": [
            "{'val_loss': 0.3305455446243286, 'val_generator_loss': 0.735495924949646, 'val_discriminator_loss': 0.1670534908771515, 'val_feature_extractor_loss': 2.093021869659424, 'val_feature_extractor_1_loss': 5.803133964538574, 'val_generator_PSNR_Y': 10.757011413574219, 'train_d_real_loss': 7.303685656268044e-09, 'train_d_real_accuracy': 1.0, 'train_d_fake_loss': 6.7876921860943185e-09, 'train_d_fake_accuracy': 1.0, 'train_loss': 0.9489012360572815, 'train_generator_loss': 0.727986752986908, 'train_discriminator_loss': 0.1731143593788147, 'train_feature_extractor_loss': 6.544913291931152, 'train_feature_extractor_1_loss': 16.196264266967773, 'train_generator_PSNR_Y': 10.175929069519043}\n",
            "val_loss improved from        inf to    0.33055\n",
            "Saving weights\n",
            "Epoch 62/80\n",
            "Current learning rate: 9.999999747378752e-05\n",
            "Current flatness treshold: 0.12\n",
            "100%|██████████| 500/500 [09:10<00:00,  1.10s/it]\n",
            "Epoch 62 took      550.0s\n"
          ],
          "name": "stderr"
        },
        {
          "output_type": "stream",
          "text": [
            "  2/100 [..............................] - ETA: 16s - loss: 0.2327 - generator_loss: 0.6946 - discriminator_loss: 0.2202 - feature_extractor_loss: 1.2572 - feature_extractor_1_loss: 4.2780 - generator_PSNR_Y: 11.3585WARNING:tensorflow:Callbacks method `on_test_batch_end` is slow compared to the batch time (batch time: 0.0519s vs `on_test_batch_end` time: 0.1388s). Check your callbacks.\n",
            "100/100 [==============================] - 19s 191ms/step - loss: 0.3308 - generator_loss: 0.7448 - discriminator_loss: 0.2181 - feature_extractor_loss: 2.0769 - feature_extractor_1_loss: 5.8131 - generator_PSNR_Y: 10.8457\n"
          ],
          "name": "stdout"
        },
        {
          "output_type": "stream",
          "text": [
            "{'val_loss': 0.3308012783527374, 'val_generator_loss': 0.7447601556777954, 'val_discriminator_loss': 0.2181219905614853, 'val_feature_extractor_loss': 2.076927423477173, 'val_feature_extractor_1_loss': 5.813111782073975, 'val_generator_PSNR_Y': 10.845706939697266, 'train_d_real_loss': 7.27052462679012e-09, 'train_d_real_accuracy': 1.0, 'train_d_fake_loss': 1.2601194532280147e-09, 'train_d_fake_accuracy': 1.0, 'train_loss': 0.5523660778999329, 'train_generator_loss': 0.7815142869949341, 'train_discriminator_loss': 0.2071666270494461, 'train_feature_extractor_loss': 3.468947649002075, 'train_feature_extractor_1_loss': 9.743402481079102, 'train_generator_PSNR_Y': 10.399153709411621}\n",
            "val_loss did not improve.\n",
            "Epoch 63/80\n",
            "Current learning rate: 9.999999747378752e-05\n",
            "Current flatness treshold: 0.12\n",
            "100%|██████████| 500/500 [09:15<00:00,  1.11s/it]\n",
            "Epoch 63 took      555.2s\n"
          ],
          "name": "stderr"
        },
        {
          "output_type": "stream",
          "text": [
            "  2/100 [..............................] - ETA: 15s - loss: 0.2215 - generator_loss: 0.6491 - discriminator_loss: 0.2286 - feature_extractor_loss: 1.2627 - feature_extractor_1_loss: 4.0002 - generator_PSNR_Y: 11.3868WARNING:tensorflow:Callbacks method `on_test_batch_end` is slow compared to the batch time (batch time: 0.0508s vs `on_test_batch_end` time: 0.1343s). Check your callbacks.\n",
            "100/100 [==============================] - 19s 192ms/step - loss: 0.3297 - generator_loss: 0.6943 - discriminator_loss: 0.2410 - feature_extractor_loss: 2.1147 - feature_extractor_1_loss: 5.7429 - generator_PSNR_Y: 10.8181\n"
          ],
          "name": "stdout"
        },
        {
          "output_type": "stream",
          "text": [
            "{'val_loss': 0.32967838644981384, 'val_generator_loss': 0.6942781209945679, 'val_discriminator_loss': 0.24099616706371307, 'val_feature_extractor_loss': 2.114711046218872, 'val_feature_extractor_1_loss': 5.742874622344971, 'val_generator_PSNR_Y': 10.818085670471191, 'train_d_real_loss': 8.15821543653783e-09, 'train_d_real_accuracy': 1.0, 'train_d_fake_loss': 2.763726136834066e-09, 'train_d_fake_accuracy': 1.0, 'train_loss': 0.24326984584331512, 'train_generator_loss': 0.6794192790985107, 'train_discriminator_loss': 0.2518725097179413, 'train_feature_extractor_loss': 1.4104375839233398, 'train_feature_extractor_1_loss': 4.369901180267334, 'train_generator_PSNR_Y': 10.94278335571289}\n",
            "val_loss improved from    0.33055 to    0.32968\n",
            "Saving weights\n",
            "Epoch 64/80\n",
            "Current learning rate: 9.999999747378752e-05\n",
            "Current flatness treshold: 0.12\n",
            "100%|██████████| 500/500 [09:17<00:00,  1.11s/it]\n",
            "Epoch 64 took      557.3s\n"
          ],
          "name": "stderr"
        },
        {
          "output_type": "stream",
          "text": [
            "  2/100 [..............................] - ETA: 16s - loss: 0.2225 - generator_loss: 0.7163 - discriminator_loss: 0.1774 - feature_extractor_loss: 1.2441 - feature_extractor_1_loss: 4.0560 - generator_PSNR_Y: 10.4809WARNING:tensorflow:Callbacks method `on_test_batch_end` is slow compared to the batch time (batch time: 0.0538s vs `on_test_batch_end` time: 0.1385s). Check your callbacks.\n",
            "100/100 [==============================] - 19s 192ms/step - loss: 0.3298 - generator_loss: 0.7686 - discriminator_loss: 0.1772 - feature_extractor_loss: 2.1168 - feature_extractor_1_loss: 5.7579 - generator_PSNR_Y: 9.7670\n"
          ],
          "name": "stdout"
        },
        {
          "output_type": "stream",
          "text": [
            "{'val_loss': 0.32975369691848755, 'val_generator_loss': 0.7685810327529907, 'val_discriminator_loss': 0.1772138923406601, 'val_feature_extractor_loss': 2.1168227195739746, 'val_feature_extractor_1_loss': 5.757883071899414, 'val_generator_PSNR_Y': 9.767003059387207, 'train_d_real_loss': 1.516349601438094e-09, 'train_d_real_accuracy': 1.0, 'train_d_fake_loss': 1.8051867778368091e-09, 'train_d_fake_accuracy': 1.0, 'train_loss': 0.533625602722168, 'train_generator_loss': 0.8119831681251526, 'train_discriminator_loss': 0.1473245471715927, 'train_feature_extractor_loss': 3.118137836456299, 'train_feature_extractor_1_loss': 9.658629417419434, 'train_generator_PSNR_Y': 9.186460494995117}\n",
            "val_loss did not improve.\n",
            "Epoch 65/80\n",
            "Current learning rate: 9.999999747378752e-05\n",
            "Current flatness treshold: 0.13\n",
            "100%|██████████| 500/500 [09:20<00:00,  1.12s/it]\n",
            "Epoch 65 took      560.2s\n"
          ],
          "name": "stderr"
        },
        {
          "output_type": "stream",
          "text": [
            "  2/100 [..............................] - ETA: 16s - loss: 0.2333 - generator_loss: 0.7078 - discriminator_loss: 0.2706 - feature_extractor_loss: 1.2387 - feature_extractor_1_loss: 4.2979 - generator_PSNR_Y: 9.6466WARNING:tensorflow:Callbacks method `on_test_batch_end` is slow compared to the batch time (batch time: 0.0506s vs `on_test_batch_end` time: 0.1386s). Check your callbacks.\n",
            "100/100 [==============================] - 19s 192ms/step - loss: 0.3337 - generator_loss: 0.7530 - discriminator_loss: 0.2622 - feature_extractor_loss: 2.0815 - feature_extractor_1_loss: 5.8679 - generator_PSNR_Y: 9.2002\n"
          ],
          "name": "stdout"
        },
        {
          "output_type": "stream",
          "text": [
            "{'val_loss': 0.3337146043777466, 'val_generator_loss': 0.7530439496040344, 'val_discriminator_loss': 0.26223239302635193, 'val_feature_extractor_loss': 2.0814592838287354, 'val_feature_extractor_1_loss': 5.8679327964782715, 'val_generator_PSNR_Y': 9.200182914733887, 'train_d_real_loss': 1.8020593905987425e-09, 'train_d_real_accuracy': 1.0, 'train_d_fake_loss': 2.860452985586903e-10, 'train_d_fake_accuracy': 1.0, 'train_loss': 0.4056432247161865, 'train_generator_loss': 0.7913113236427307, 'train_discriminator_loss': 0.24274858832359314, 'train_feature_extractor_loss': 2.5858724117279053, 'train_feature_extractor_1_loss': 7.095177173614502, 'train_generator_PSNR_Y': 8.903587341308594}\n",
            "val_loss did not improve.\n",
            "Epoch 66/80\n",
            "Current learning rate: 9.999999747378752e-05\n",
            "Current flatness treshold: 0.13\n",
            "100%|██████████| 500/500 [09:19<00:00,  1.12s/it]\n",
            "Epoch 66 took      559.8s\n"
          ],
          "name": "stderr"
        },
        {
          "output_type": "stream",
          "text": [
            "  2/100 [..............................] - ETA: 15s - loss: 0.2294 - generator_loss: 0.7740 - discriminator_loss: 0.1419 - feature_extractor_loss: 1.2427 - feature_extractor_1_loss: 4.2318 - generator_PSNR_Y: 8.4697WARNING:tensorflow:Callbacks method `on_test_batch_end` is slow compared to the batch time (batch time: 0.0503s vs `on_test_batch_end` time: 0.1370s). Check your callbacks.\n",
            "100/100 [==============================] - 19s 192ms/step - loss: 0.3335 - generator_loss: 0.8199 - discriminator_loss: 0.1529 - feature_extractor_loss: 2.0700 - feature_extractor_1_loss: 5.8997 - generator_PSNR_Y: 8.0669\n"
          ],
          "name": "stdout"
        },
        {
          "output_type": "stream",
          "text": [
            "{'val_loss': 0.33346691727638245, 'val_generator_loss': 0.8198888301849365, 'val_discriminator_loss': 0.15285705029964447, 'val_feature_extractor_loss': 2.069976329803467, 'val_feature_extractor_1_loss': 5.8997321128845215, 'val_generator_PSNR_Y': 8.06686019897461, 'train_d_real_loss': 6.3254718130068e-10, 'train_d_real_accuracy': 1.0, 'train_d_fake_loss': 8.719150956792987e-10, 'train_d_fake_accuracy': 1.0, 'train_loss': 0.5127459764480591, 'train_generator_loss': 0.8444366455078125, 'train_discriminator_loss': 0.13772019743919373, 'train_feature_extractor_loss': 3.083677291870117, 'train_feature_extractor_1_loss': 9.194083213806152, 'train_generator_PSNR_Y': 7.792959213256836}\n",
            "val_loss did not improve.\n",
            "Saving weights anyways.\n",
            "Epoch 67/80\n",
            "Current learning rate: 9.999999747378752e-05\n",
            "Current flatness treshold: 0.13\n",
            "100%|██████████| 500/500 [09:19<00:00,  1.12s/it]\n",
            "Epoch 67 took      560.0s\n"
          ],
          "name": "stderr"
        },
        {
          "output_type": "stream",
          "text": [
            "  2/100 [..............................] - ETA: 15s - loss: 0.2310 - generator_loss: 0.7974 - discriminator_loss: 0.3223 - feature_extractor_loss: 1.2647 - feature_extractor_1_loss: 4.2052 - generator_PSNR_Y: 8.1745WARNING:tensorflow:Callbacks method `on_test_batch_end` is slow compared to the batch time (batch time: 0.0499s vs `on_test_batch_end` time: 0.1386s). Check your callbacks.\n",
            "100/100 [==============================] - 19s 191ms/step - loss: 0.3329 - generator_loss: 0.8381 - discriminator_loss: 0.3317 - feature_extractor_loss: 2.1025 - feature_extractor_1_loss: 5.8095 - generator_PSNR_Y: 7.9719\n"
          ],
          "name": "stdout"
        },
        {
          "output_type": "stream",
          "text": [
            "{'val_loss': 0.33285218477249146, 'val_generator_loss': 0.8381178379058838, 'val_discriminator_loss': 0.33165305852890015, 'val_feature_extractor_loss': 2.1025054454803467, 'val_feature_extractor_1_loss': 5.809515476226807, 'val_generator_PSNR_Y': 7.971874237060547, 'train_d_real_loss': 5.086342458326953e-10, 'train_d_real_accuracy': 1.0, 'train_d_fake_loss': 2.798858644847968e-10, 'train_d_fake_accuracy': 1.0, 'train_loss': 1.0372072458267212, 'train_generator_loss': 0.8387786149978638, 'train_discriminator_loss': 0.33357563614845276, 'train_feature_extractor_loss': 7.23281717300415, 'train_feature_extractor_1_loss': 17.59002685546875, 'train_generator_PSNR_Y': 7.792045593261719}\n",
            "val_loss did not improve.\n",
            "Epoch 68/80\n",
            "Current learning rate: 9.999999747378752e-05\n",
            "Current flatness treshold: 0.13\n",
            "100%|██████████| 500/500 [09:22<00:00,  1.12s/it]\n",
            "Epoch 68 took      562.3s\n"
          ],
          "name": "stderr"
        },
        {
          "output_type": "stream",
          "text": [
            "  2/100 [..............................] - ETA: 16s - loss: 0.2245 - generator_loss: 0.8332 - discriminator_loss: 0.1601 - feature_extractor_loss: 1.2856 - feature_extractor_1_loss: 4.0657 - generator_PSNR_Y: 7.8658WARNING:tensorflow:Callbacks method `on_test_batch_end` is slow compared to the batch time (batch time: 0.0558s vs `on_test_batch_end` time: 0.1397s). Check your callbacks.\n",
            "100/100 [==============================] - 19s 194ms/step - loss: 0.3302 - generator_loss: 0.8760 - discriminator_loss: 0.1667 - feature_extractor_loss: 2.1450 - feature_extractor_1_loss: 5.7430 - generator_PSNR_Y: 7.5886\n"
          ],
          "name": "stdout"
        },
        {
          "output_type": "stream",
          "text": [
            "{'val_loss': 0.33020293712615967, 'val_generator_loss': 0.8759971857070923, 'val_discriminator_loss': 0.166721910238266, 'val_feature_extractor_loss': 2.144972324371338, 'val_feature_extractor_1_loss': 5.743041515350342, 'val_generator_PSNR_Y': 7.588552474975586, 'train_d_real_loss': 2.9575328852615712e-09, 'train_d_real_accuracy': 1.0, 'train_d_fake_loss': 1.0316432152990274e-09, 'train_d_fake_accuracy': 1.0, 'train_loss': 0.5390102863311768, 'train_generator_loss': 0.8551788330078125, 'train_discriminator_loss': 0.1666671633720398, 'train_feature_extractor_loss': 2.6870598793029785, 'train_feature_extractor_1_loss': 10.214347839355469, 'train_generator_PSNR_Y': 7.672551155090332}\n",
            "val_loss did not improve.\n",
            "Epoch 69/80\n",
            "Current learning rate: 9.999999747378752e-05\n",
            "Current flatness treshold: 0.13\n",
            "100%|██████████| 500/500 [09:13<00:00,  1.11s/it]\n",
            "Epoch 69 took      553.7s\n"
          ],
          "name": "stderr"
        },
        {
          "output_type": "stream",
          "text": [
            "  2/100 [..............................] - ETA: 15s - loss: 0.2252 - generator_loss: 0.7963 - discriminator_loss: 0.1816 - feature_extractor_loss: 1.2618 - feature_extractor_1_loss: 4.1010 - generator_PSNR_Y: 7.9725WARNING:tensorflow:Callbacks method `on_test_batch_end` is slow compared to the batch time (batch time: 0.0498s vs `on_test_batch_end` time: 0.1394s). Check your callbacks.\n",
            "100/100 [==============================] - 19s 193ms/step - loss: 0.3289 - generator_loss: 0.8360 - discriminator_loss: 0.1936 - feature_extractor_loss: 2.0945 - feature_extractor_1_loss: 5.7559 - generator_PSNR_Y: 7.6842\n"
          ],
          "name": "stdout"
        },
        {
          "output_type": "stream",
          "text": [
            "{'val_loss': 0.32890358567237854, 'val_generator_loss': 0.8360486626625061, 'val_discriminator_loss': 0.1935853213071823, 'val_feature_extractor_loss': 2.094451665878296, 'val_feature_extractor_1_loss': 5.755913734436035, 'val_generator_PSNR_Y': 7.684217929840088, 'train_d_real_loss': 1.5992728252811617e-09, 'train_d_real_accuracy': 1.0, 'train_d_fake_loss': 7.945109570250963e-10, 'train_d_fake_accuracy': 1.0, 'train_loss': 0.7376656532287598, 'train_generator_loss': 0.8256716728210449, 'train_discriminator_loss': 0.20683127641677856, 'train_feature_extractor_loss': 5.477931022644043, 'train_feature_extractor_1_loss': 12.18346881866455, 'train_generator_PSNR_Y': 7.640079498291016}\n",
            "val_loss improved from    0.32968 to    0.32890\n",
            "Saving weights\n",
            "Epoch 70/80\n",
            "Current learning rate: 9.999999747378752e-05\n",
            "Current flatness treshold: 0.14\n",
            "100%|██████████| 500/500 [09:17<00:00,  1.11s/it]\n",
            "Epoch 70 took      557.5s\n"
          ],
          "name": "stderr"
        },
        {
          "output_type": "stream",
          "text": [
            "  2/100 [..............................] - ETA: 16s - loss: 0.2218 - generator_loss: 0.8502 - discriminator_loss: 0.1878 - feature_extractor_loss: 1.2577 - feature_extractor_1_loss: 4.0227 - generator_PSNR_Y: 7.4680WARNING:tensorflow:Callbacks method `on_test_batch_end` is slow compared to the batch time (batch time: 0.0551s vs `on_test_batch_end` time: 0.1391s). Check your callbacks.\n",
            "100/100 [==============================] - 19s 193ms/step - loss: 0.3294 - generator_loss: 0.8842 - discriminator_loss: 0.1982 - feature_extractor_loss: 2.1338 - feature_extractor_1_loss: 5.7281 - generator_PSNR_Y: 7.3052\n"
          ],
          "name": "stdout"
        },
        {
          "output_type": "stream",
          "text": [
            "{'val_loss': 0.329431414604187, 'val_generator_loss': 0.8842234015464783, 'val_discriminator_loss': 0.19818167388439178, 'val_feature_extractor_loss': 2.1338417530059814, 'val_feature_extractor_1_loss': 5.728093147277832, 'val_generator_PSNR_Y': 7.305234432220459, 'train_d_real_loss': 1.08895437112011e-09, 'train_d_real_accuracy': 1.0, 'train_d_fake_loss': 2.5145913129520636e-10, 'train_d_fake_accuracy': 1.0, 'train_loss': 0.3629845976829529, 'train_generator_loss': 0.9144383072853088, 'train_discriminator_loss': 0.17364567518234253, 'train_feature_extractor_loss': 2.2231533527374268, 'train_feature_extractor_1_loss': 6.4502716064453125, 'train_generator_PSNR_Y': 7.143853187561035}\n",
            "val_loss did not improve.\n",
            "Epoch 71/80\n",
            "Current learning rate: 9.999999747378752e-05\n",
            "Current flatness treshold: 0.14\n",
            "100%|██████████| 500/500 [09:18<00:00,  1.12s/it]\n",
            "Epoch 71 took      558.9s\n"
          ],
          "name": "stderr"
        },
        {
          "output_type": "stream",
          "text": [
            "  2/100 [..............................] - ETA: 16s - loss: 0.2219 - generator_loss: 0.8819 - discriminator_loss: 0.2283 - feature_extractor_loss: 1.2759 - feature_extractor_1_loss: 3.9960 - generator_PSNR_Y: 7.2553WARNING:tensorflow:Callbacks method `on_test_batch_end` is slow compared to the batch time (batch time: 0.0541s vs `on_test_batch_end` time: 0.1395s). Check your callbacks.\n",
            "100/100 [==============================] - 19s 194ms/step - loss: 0.3320 - generator_loss: 0.9229 - discriminator_loss: 0.2301 - feature_extractor_loss: 2.1665 - feature_extractor_1_loss: 5.7489 - generator_PSNR_Y: 7.0319\n"
          ],
          "name": "stdout"
        },
        {
          "output_type": "stream",
          "text": [
            "{'val_loss': 0.3319788873195648, 'val_generator_loss': 0.9228758811950684, 'val_discriminator_loss': 0.2301444411277771, 'val_feature_extractor_loss': 2.1664936542510986, 'val_feature_extractor_1_loss': 5.748932361602783, 'val_generator_PSNR_Y': 7.031867027282715, 'train_d_real_loss': 9.033176429085188e-10, 'train_d_real_accuracy': 1.0, 'train_d_fake_loss': 4.189816826816184e-10, 'train_d_fake_accuracy': 1.0, 'train_loss': 0.639490008354187, 'train_generator_loss': 0.941409170627594, 'train_discriminator_loss': 0.20694893598556519, 'train_feature_extractor_loss': 4.29342794418335, 'train_feature_extractor_1_loss': 11.010786056518555, 'train_generator_PSNR_Y': 6.859362602233887}\n",
            "val_loss did not improve.\n",
            "Epoch 72/80\n",
            "Current learning rate: 9.999999747378752e-05\n",
            "Current flatness treshold: 0.14\n",
            "100%|██████████| 500/500 [09:23<00:00,  1.13s/it]\n",
            "Epoch 72 took      563.5s\n"
          ],
          "name": "stderr"
        },
        {
          "output_type": "stream",
          "text": [
            "  2/100 [..............................] - ETA: 16s - loss: 0.2283 - generator_loss: 0.8675 - discriminator_loss: 0.1729 - feature_extractor_loss: 1.3037 - feature_extractor_1_loss: 4.1360 - generator_PSNR_Y: 7.3420WARNING:tensorflow:Callbacks method `on_test_batch_end` is slow compared to the batch time (batch time: 0.0501s vs `on_test_batch_end` time: 0.1381s). Check your callbacks.\n",
            "100/100 [==============================] - 20s 195ms/step - loss: 0.3302 - generator_loss: 0.9087 - discriminator_loss: 0.1813 - feature_extractor_loss: 2.1313 - feature_extractor_1_loss: 5.7534 - generator_PSNR_Y: 7.0546\n"
          ],
          "name": "stdout"
        },
        {
          "output_type": "stream",
          "text": [
            "{'val_loss': 0.3302080035209656, 'val_generator_loss': 0.9086638689041138, 'val_discriminator_loss': 0.18133749067783356, 'val_feature_extractor_loss': 2.131263017654419, 'val_feature_extractor_1_loss': 5.753362655639648, 'val_generator_PSNR_Y': 7.054580211639404, 'train_d_real_loss': 6.373174765705869e-10, 'train_d_real_accuracy': 1.0, 'train_d_fake_loss': 1.958305184679432e-10, 'train_d_fake_accuracy': 1.0, 'train_loss': 0.1877894103527069, 'train_generator_loss': 0.9141113758087158, 'train_discriminator_loss': 0.1841762661933899, 'train_feature_extractor_loss': 1.422853708267212, 'train_feature_extractor_1_loss': 3.041675329208374, 'train_generator_PSNR_Y': 7.031801223754883}\n",
            "val_loss did not improve.\n",
            "Saving weights anyways.\n",
            "Epoch 73/80\n",
            "Current learning rate: 9.999999747378752e-05\n",
            "Current flatness treshold: 0.14\n",
            "100%|██████████| 500/500 [09:22<00:00,  1.13s/it]\n",
            "Epoch 73 took      562.6s\n"
          ],
          "name": "stderr"
        },
        {
          "output_type": "stream",
          "text": [
            "  2/100 [..............................] - ETA: 16s - loss: 0.2167 - generator_loss: 0.2139 - discriminator_loss: 0.2654 - feature_extractor_loss: 1.2220 - feature_extractor_1_loss: 3.9172 - generator_PSNR_Y: 21.7908WARNING:tensorflow:Callbacks method `on_test_batch_end` is slow compared to the batch time (batch time: 0.0528s vs `on_test_batch_end` time: 0.1413s). Check your callbacks.\n",
            "100/100 [==============================] - 19s 194ms/step - loss: 0.3256 - generator_loss: 0.2427 - discriminator_loss: 0.4119 - feature_extractor_loss: 2.0691 - feature_extractor_1_loss: 5.6499 - generator_PSNR_Y: 18.4034\n"
          ],
          "name": "stdout"
        },
        {
          "output_type": "stream",
          "text": [
            "{'val_loss': 0.32561448216438293, 'val_generator_loss': 0.2427290380001068, 'val_discriminator_loss': 0.41187599301338196, 'val_feature_extractor_loss': 2.0691115856170654, 'val_feature_extractor_1_loss': 5.6498703956604, 'val_generator_PSNR_Y': 18.403379440307617, 'train_d_real_loss': 3.476902929833159e-05, 'train_d_real_accuracy': 1.0, 'train_d_fake_loss': 2.7417627279646695e-05, 'train_d_fake_accuracy': 1.0, 'train_loss': 0.20761394500732422, 'train_generator_loss': 0.2406667172908783, 'train_discriminator_loss': 0.4213925302028656, 'train_feature_extractor_loss': 0.9695560932159424, 'train_feature_extractor_1_loss': 3.9139974117279053, 'train_generator_PSNR_Y': 18.655393600463867}\n",
            "val_loss improved from    0.32890 to    0.32561\n",
            "Saving weights\n",
            "Epoch 74/80\n",
            "Current learning rate: 9.999999747378752e-05\n",
            "Current flatness treshold: 0.14\n",
            "100%|██████████| 500/500 [09:17<00:00,  1.12s/it]\n",
            "Epoch 74 took      557.7s\n"
          ],
          "name": "stderr"
        },
        {
          "output_type": "stream",
          "text": [
            "  2/100 [..............................] - ETA: 16s - loss: 0.2199 - generator_loss: 0.1352 - discriminator_loss: 0.4005 - feature_extractor_loss: 1.2201 - feature_extractor_1_loss: 3.9631 - generator_PSNR_Y: 23.6043WARNING:tensorflow:Callbacks method `on_test_batch_end` is slow compared to the batch time (batch time: 0.0535s vs `on_test_batch_end` time: 0.1394s). Check your callbacks.\n",
            "100/100 [==============================] - 19s 193ms/step - loss: 0.3259 - generator_loss: 0.1787 - discriminator_loss: 0.5955 - feature_extractor_loss: 2.0709 - feature_extractor_1_loss: 5.6100 - generator_PSNR_Y: 19.4709\n"
          ],
          "name": "stdout"
        },
        {
          "output_type": "stream",
          "text": [
            "{'val_loss': 0.3258642256259918, 'val_generator_loss': 0.17866994440555573, 'val_discriminator_loss': 0.5954840779304504, 'val_feature_extractor_loss': 2.0708744525909424, 'val_feature_extractor_1_loss': 5.610022068023682, 'val_generator_PSNR_Y': 19.470863342285156, 'train_d_real_loss': 1.2654000784095842e-05, 'train_d_real_accuracy': 1.0, 'train_d_fake_loss': 2.3813146981410682e-05, 'train_d_fake_accuracy': 1.0, 'train_loss': 0.15131250023841858, 'train_generator_loss': 0.18693667650222778, 'train_discriminator_loss': 0.5583879351615906, 'train_feature_extractor_loss': 0.9287461042404175, 'train_feature_extractor_1_loss': 2.5701403617858887, 'train_generator_PSNR_Y': 19.13724708557129}\n",
            "val_loss did not improve.\n",
            "Epoch 75/80\n",
            "Current learning rate: 9.999999747378752e-05\n",
            "Current flatness treshold: 0.15\n",
            "100%|██████████| 500/500 [09:21<00:00,  1.12s/it]\n",
            "Epoch 75 took      561.9s\n"
          ],
          "name": "stderr"
        },
        {
          "output_type": "stream",
          "text": [
            "  2/100 [..............................] - ETA: 16s - loss: 0.2205 - generator_loss: 0.2434 - discriminator_loss: 0.7434 - feature_extractor_loss: 1.2080 - feature_extractor_1_loss: 3.9071 - generator_PSNR_Y: 19.1883WARNING:tensorflow:Callbacks method `on_test_batch_end` is slow compared to the batch time (batch time: 0.0514s vs `on_test_batch_end` time: 0.1378s). Check your callbacks.\n",
            "100/100 [==============================] - 19s 193ms/step - loss: 0.3252 - generator_loss: 0.2882 - discriminator_loss: 0.5545 - feature_extractor_loss: 2.0693 - feature_extractor_1_loss: 5.6067 - generator_PSNR_Y: 18.5986\n"
          ],
          "name": "stdout"
        },
        {
          "output_type": "stream",
          "text": [
            "{'val_loss': 0.3252491056919098, 'val_generator_loss': 0.2881828546524048, 'val_discriminator_loss': 0.5545457601547241, 'val_feature_extractor_loss': 2.069265604019165, 'val_feature_extractor_1_loss': 5.606693267822266, 'val_generator_PSNR_Y': 18.598617553710938, 'train_d_real_loss': 0.0001315622648689896, 'train_d_real_accuracy': 1.0, 'train_d_fake_loss': 5.794550452264957e-05, 'train_d_fake_accuracy': 1.0, 'train_loss': 0.5232740640640259, 'train_generator_loss': 0.311575323343277, 'train_discriminator_loss': 0.4029836356639862, 'train_feature_extractor_loss': 2.939831256866455, 'train_feature_extractor_1_loss': 9.527016639709473, 'train_generator_PSNR_Y': 17.856807708740234}\n",
            "val_loss improved from    0.32561 to    0.32525\n",
            "Saving weights\n",
            "Epoch 76/80\n",
            "Current learning rate: 9.999999747378752e-05\n",
            "Current flatness treshold: 0.15\n",
            "100%|██████████| 500/500 [09:19<00:00,  1.12s/it]\n",
            "Epoch 76 took      559.7s\n"
          ],
          "name": "stderr"
        },
        {
          "output_type": "stream",
          "text": [
            "  2/100 [..............................] - ETA: 16s - loss: 0.2135 - generator_loss: 1.0960 - discriminator_loss: 0.0678 - feature_extractor_loss: 1.1992 - feature_extractor_1_loss: 3.9110 - generator_PSNR_Y: 10.5249WARNING:tensorflow:Callbacks method `on_test_batch_end` is slow compared to the batch time (batch time: 0.0528s vs `on_test_batch_end` time: 0.1396s). Check your callbacks.\n",
            "100/100 [==============================] - 19s 194ms/step - loss: 0.3193 - generator_loss: 1.0973 - discriminator_loss: 0.0639 - feature_extractor_loss: 2.0761 - feature_extractor_1_loss: 5.5752 - generator_PSNR_Y: 10.2582\n"
          ],
          "name": "stdout"
        },
        {
          "output_type": "stream",
          "text": [
            "{'val_loss': 0.3193134069442749, 'val_generator_loss': 1.0973297357559204, 'val_discriminator_loss': 0.06387519836425781, 'val_feature_extractor_loss': 2.076094388961792, 'val_feature_extractor_1_loss': 5.575159072875977, 'val_generator_PSNR_Y': 10.25820541381836, 'train_d_real_loss': 9.83682184596546e-06, 'train_d_real_accuracy': 1.0, 'train_d_fake_loss': 3.213564195903018e-05, 'train_d_fake_accuracy': 1.0, 'train_loss': 0.868935763835907, 'train_generator_loss': 1.135731816291809, 'train_discriminator_loss': 0.0676795169711113, 'train_feature_extractor_loss': 5.692850112915039, 'train_feature_extractor_1_loss': 15.153702735900879, 'train_generator_PSNR_Y': 9.527804374694824}\n",
            "val_loss improved from    0.32525 to    0.31931\n",
            "Saving weights\n",
            "Epoch 77/80\n",
            "Current learning rate: 9.999999747378752e-05\n",
            "Current flatness treshold: 0.15\n",
            "100%|██████████| 500/500 [09:23<00:00,  1.13s/it]\n",
            "Epoch 77 took      563.8s\n"
          ],
          "name": "stderr"
        },
        {
          "output_type": "stream",
          "text": [
            "  2/100 [..............................] - ETA: 15s - loss: 0.2228 - generator_loss: 1.3276 - discriminator_loss: 0.0777 - feature_extractor_loss: 1.1989 - feature_extractor_1_loss: 4.1322 - generator_PSNR_Y: 9.7810WARNING:tensorflow:Callbacks method `on_test_batch_end` is slow compared to the batch time (batch time: 0.0546s vs `on_test_batch_end` time: 0.1330s). Check your callbacks.\n",
            "100/100 [==============================] - 19s 194ms/step - loss: 0.3220 - generator_loss: 1.3363 - discriminator_loss: 0.0729 - feature_extractor_loss: 2.0297 - feature_extractor_1_loss: 5.6847 - generator_PSNR_Y: 9.4989\n"
          ],
          "name": "stdout"
        },
        {
          "output_type": "stream",
          "text": [
            "{'val_loss': 0.3220360279083252, 'val_generator_loss': 1.3363401889801025, 'val_discriminator_loss': 0.07290718704462051, 'val_feature_extractor_loss': 2.0297482013702393, 'val_feature_extractor_1_loss': 5.684703826904297, 'val_generator_PSNR_Y': 9.498943328857422, 'train_d_real_loss': 3.16729597216181e-06, 'train_d_real_accuracy': 1.0, 'train_d_fake_loss': 3.833389655483188e-06, 'train_d_fake_accuracy': 1.0, 'train_loss': 0.29575103521347046, 'train_generator_loss': 1.389113187789917, 'train_discriminator_loss': 0.0703640729188919, 'train_feature_extractor_loss': 2.3200416564941406, 'train_feature_extractor_1_loss': 4.76392936706543, 'train_generator_PSNR_Y': 9.0690279006958}\n",
            "val_loss did not improve.\n",
            "Epoch 78/80\n",
            "Current learning rate: 9.999999747378752e-05\n",
            "Current flatness treshold: 0.15\n",
            "100%|██████████| 500/500 [09:26<00:00,  1.13s/it]\n",
            "Epoch 78 took      566.8s\n"
          ],
          "name": "stderr"
        },
        {
          "output_type": "stream",
          "text": [
            "  2/100 [..............................] - ETA: 16s - loss: 0.2183 - generator_loss: 1.6901 - discriminator_loss: 0.0978 - feature_extractor_loss: 1.2174 - feature_extractor_1_loss: 4.0008 - generator_PSNR_Y: 8.4576WARNING:tensorflow:Callbacks method `on_test_batch_end` is slow compared to the batch time (batch time: 0.0479s vs `on_test_batch_end` time: 0.1395s). Check your callbacks.\n",
            "100/100 [==============================] - 19s 195ms/step - loss: 0.3200 - generator_loss: 1.6869 - discriminator_loss: 0.0967 - feature_extractor_loss: 2.0541 - feature_extractor_1_loss: 5.6064 - generator_PSNR_Y: 8.3097\n"
          ],
          "name": "stdout"
        },
        {
          "output_type": "stream",
          "text": [
            "{'val_loss': 0.32002463936805725, 'val_generator_loss': 1.6869137287139893, 'val_discriminator_loss': 0.09667947143316269, 'val_feature_extractor_loss': 2.054095983505249, 'val_feature_extractor_1_loss': 5.606355667114258, 'val_generator_PSNR_Y': 8.309707641601562, 'train_d_real_loss': 2.0764159671671223e-06, 'train_d_real_accuracy': 1.0, 'train_d_fake_loss': 3.7086053907842143e-06, 'train_d_fake_accuracy': 1.0, 'train_loss': 0.24530011415481567, 'train_generator_loss': 1.6836037635803223, 'train_discriminator_loss': 0.08993662893772125, 'train_feature_extractor_loss': 1.56085205078125, 'train_feature_extractor_1_loss': 4.307113170623779, 'train_generator_PSNR_Y': 8.297277450561523}\n",
            "val_loss did not improve.\n",
            "Epoch 79/80\n",
            "Current learning rate: 9.999999747378752e-05\n",
            "Current flatness treshold: 0.15\n",
            "100%|██████████| 500/500 [09:22<00:00,  1.13s/it]\n",
            "Epoch 79 took      562.8s\n"
          ],
          "name": "stderr"
        },
        {
          "output_type": "stream",
          "text": [
            "  2/100 [..............................] - ETA: 16s - loss: 0.2147 - generator_loss: 1.7839 - discriminator_loss: 0.1001 - feature_extractor_loss: 1.2478 - feature_extractor_1_loss: 3.8833 - generator_PSNR_Y: 8.0442WARNING:tensorflow:Callbacks method `on_test_batch_end` is slow compared to the batch time (batch time: 0.0523s vs `on_test_batch_end` time: 0.1392s). Check your callbacks.\n",
            "100/100 [==============================] - 19s 194ms/step - loss: 0.3245 - generator_loss: 1.8084 - discriminator_loss: 0.0912 - feature_extractor_loss: 2.1279 - feature_extractor_1_loss: 5.6414 - generator_PSNR_Y: 7.8086\n"
          ],
          "name": "stdout"
        },
        {
          "output_type": "stream",
          "text": [
            "{'val_loss': 0.3245009183883667, 'val_generator_loss': 1.808439016342163, 'val_discriminator_loss': 0.09120664745569229, 'val_feature_extractor_loss': 2.1278812885284424, 'val_feature_extractor_1_loss': 5.641359806060791, 'val_generator_PSNR_Y': 7.808628082275391, 'train_d_real_loss': 9.498170925326122e-07, 'train_d_real_accuracy': 1.0, 'train_d_fake_loss': 3.8043208405724727e-06, 'train_d_fake_accuracy': 1.0, 'train_loss': 0.24681994318962097, 'train_generator_loss': 1.8382354974746704, 'train_discriminator_loss': 0.09516040980815887, 'train_feature_extractor_loss': 1.7055619955062866, 'train_feature_extractor_1_loss': 4.197638988494873, 'train_generator_PSNR_Y': 7.645621299743652}\n",
            "val_loss did not improve.\n",
            "Saving weights anyways.\n"
          ],
          "name": "stderr"
        }
      ]
    }
  ]
}