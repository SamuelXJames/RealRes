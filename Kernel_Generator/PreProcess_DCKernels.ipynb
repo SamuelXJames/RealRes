{
  "nbformat": 4,
  "nbformat_minor": 0,
  "metadata": {
    "colab": {
      "name": "PreProcess_DCKernels.ipynb",
      "provenance": [],
      "collapsed_sections": []
    },
    "kernelspec": {
      "name": "python3",
      "display_name": "Python 3"
    }
  },
  "cells": [
    {
      "cell_type": "markdown",
      "metadata": {
        "id": "UIMUd7SVo65a"
      },
      "source": [
        "# Converting Dark Channel Kernels into a TFRecord\n",
        "\n",
        "This code stores the dark channel kernels as byte data on a TFRecord"
      ]
    },
    {
      "cell_type": "markdown",
      "metadata": {
        "id": "vWeHOyqoptAu"
      },
      "source": [
        "## Connect to Google Cloud Storage (GCS)\n",
        "\n",
        "The kernels are stored on a GCS bucket. Alternatively, they can be stored locally or on Google Drive \n",
        "\n"
      ]
    },
    {
      "cell_type": "code",
      "metadata": {
        "id": "BSQ0NVhBXeAB"
      },
      "source": [
        "## IGNORE if storing kerenels locally or on Google Drive\n",
        "#Authenticare access to cloud storage\n",
        "!gcloud auth login\n",
        "\n",
        "#Set current GCS project\n",
        "!gcloud config set project superres000"
      ],
      "execution_count": null,
      "outputs": []
    },
    {
      "cell_type": "code",
      "metadata": {
        "id": "6TBbS4oiYkbg"
      },
      "source": [
        "## IGNORE if storing kerenels locally or on Google Drive\n",
        "#Setup google cloud sdk (seems to be necessary but could be redudant)\n",
        "from google.colab import auth\n",
        "auth.authenticate_user()"
      ],
      "execution_count": 2,
      "outputs": []
    },
    {
      "cell_type": "markdown",
      "metadata": {
        "id": "8uoZ4jMqzz4s"
      },
      "source": [
        "## Import Libraries "
      ]
    },
    {
      "cell_type": "code",
      "metadata": {
        "id": "31YlWsRjzq1L"
      },
      "source": [
        "import tensorflow as tf\n",
        "import tensorflow_datasets as tfds\n",
        "from matplotlib import pyplot as plt\n",
        "import numpy as np\n",
        "import os, sys, math\n"
      ],
      "execution_count": 5,
      "outputs": []
    },
    {
      "cell_type": "markdown",
      "metadata": {
        "id": "DJnjPdl8zMz3"
      },
      "source": [
        "## Config.\n",
        "\n",
        "Given the small size of each kernel, they are all stored on one TF Record\n"
      ]
    },
    {
      "cell_type": "code",
      "metadata": {
        "id": "R_pgv5VRz-8_",
        "outputId": "f01fef09-cfcd-4c75-e015-ac8a3525beed",
        "colab": {
          "base_uri": "https://localhost:8080/"
        }
      },
      "source": [
        "# GCS Bucket containting kernels\n",
        "GCS_PATTERN = 'gs://super_res_train/Images/*.png' \n",
        "\n",
        "# Bucket to save TFRecords\n",
        "GCS_OUTPUT = 'gs://super_res_train/Kernels/Training/' \n",
        "nb_images = len(tf.io.gfile.glob(GCS_PATTERN))\n",
        "\n",
        "# Number of TFRecords to create\n",
        "SHARDS = 1\n",
        "shard_size = math.ceil(1.0 * nb_images / SHARDS)\n",
        "\n",
        "# Image Size\n",
        "IMG_SHAPE = [25,25]\n",
        "NUM_CHANNELS = 1\n",
        "\n",
        "print('Number of Images {}'.format(nb_images))\n",
        "print('Images/shard: {}'.format(shard_size))\n"
      ],
      "execution_count": 44,
      "outputs": [
        {
          "output_type": "stream",
          "text": [
            "Number of Images 1824\n",
            "Images/shard: 1824\n"
          ],
          "name": "stdout"
        }
      ]
    },
    {
      "cell_type": "markdown",
      "metadata": {
        "id": "fs87WeHW0K7n"
      },
      "source": [
        "## Read Files and Add to a TF Dataset"
      ]
    },
    {
      "cell_type": "code",
      "metadata": {
        "id": "3JyT6AfI0FL3"
      },
      "source": [
        "# Read files\n",
        "def decode_jpeg_and_label(filename):\n",
        "  image = tf.io.read_file(filename)\n",
        "  image = tf.image.decode_jpeg(image)\n",
        "  \n",
        "  label = tf.strings.split(tf.expand_dims(filename, axis=-1), sep='/')\n",
        "  label = label.values[-2]\n",
        "  return image, label\n",
        "\n",
        "# Add Files to the TF Dataset\n",
        "AUTO = tf.data.experimental.AUTOTUNE \n",
        "filenames = tf.data.Dataset.list_files(GCS_PATTERN, seed=35155) # This also shuffles the images\n",
        "dataset1 = filenames.map(decode_jpeg_and_label, num_parallel_calls=AUTO)\n",
        "dataset1 = dataset1.batch(shard_size)"
      ],
      "execution_count": 45,
      "outputs": []
    },
    {
      "cell_type": "markdown",
      "metadata": {
        "id": "MW8lfh6C0Pvj"
      },
      "source": [
        "## Write dataset to a TF Record"
      ]
    },
    {
      "cell_type": "code",
      "metadata": {
        "id": "R1uTD6D4Qrs5",
        "outputId": "24818439-e3ec-435e-aea6-30a947bd2d0d",
        "colab": {
          "base_uri": "https://localhost:8080/"
        }
      },
      "source": [
        "# Writes TFDataset to a TF Record\n",
        "def writeTFRecord(writer,image,label):\n",
        "  example = tf.train.Example(features=tf.train.Features(feature={\n",
        "        'label': tf.train.Feature(bytes_list=tf.train.BytesList(value=[label])),\n",
        "        'image': tf.train.Feature(bytes_list=tf.train.BytesList(value=[image]))\n",
        "    }))\n",
        "  writer.write(example.SerializeToString())\n",
        "  return \n",
        "\n",
        "# Write files\n",
        "for i,(img,label) in enumerate(dataset1):\n",
        "  filename = GCS_OUTPUT + '{:02d}DCKernels.tfrec'.format(i)\n",
        "  writer = tf.io.TFRecordWriter(filename)\n",
        "  writeTFRecord(writer,img.numpy().tobytes(),label.numpy().tobytes())\n",
        "  \n",
        "  #For some reason the last TF Record is not saved - this is a quick fix\n",
        "  if i+1 == SHARDS:\n",
        "    writer = tf.io.TFRecordWriter(filename)\n",
        "    writeTFRecord(writer,img.numpy().tobytes(),label.numpy().tobytes())\n",
        "  print('Completed: {}/{} Wrote File: {}'.format(i+1,SHARDS,filename))\n"
      ],
      "execution_count": 46,
      "outputs": [
        {
          "output_type": "stream",
          "text": [
            "Completed: 1/1 Wrote File: gs://super_res_train/Kernels/Training/00DCKernels.tfrec\n"
          ],
          "name": "stdout"
        }
      ]
    },
    {
      "cell_type": "markdown",
      "metadata": {
        "id": "MfhzFIbg22UN"
      },
      "source": [
        "## Read the TFRecrods"
      ]
    },
    {
      "cell_type": "code",
      "metadata": {
        "id": "vzJppQaT218P",
        "outputId": "ed48fbfc-cd7e-4d6d-d641-f0d7ba5b2219",
        "colab": {
          "base_uri": "https://localhost:8080/",
          "height": 303
        }
      },
      "source": [
        "# Select TFRrecord to read\n",
        "GCS_File = GCS_OUTPUT + '00DCKernels.tfrec'\n",
        "dataset = tf.data.TFRecordDataset(GCS_File)\n",
        "\n",
        "\n",
        "\n",
        "def read_tfrecord(example):\n",
        "# Create a dictionary describing the features.\n",
        "  features = {\n",
        "      'image': tf.io.FixedLenFeature([], tf.string),\n",
        "      'label': tf.io.FixedLenFeature([], tf.string)\n",
        "  }\n",
        "  \n",
        "  example = tf.io.parse_single_example(example, features)\n",
        "\n",
        "  image = tf.io.decode_raw(example['image'], 'uint8')\n",
        "  image = tf.reshape(image, [nb_images,IMG_SHAPE[0],IMG_SHAPE[1], NUM_CHANNELS])\n",
        "  \n",
        "  # This is broken - however labels are unnecessary\n",
        "  label  = example['label']\n",
        "\n",
        "  return image, label\n",
        "\n",
        "dataset = dataset.map(read_tfrecord)\n",
        "\n",
        "for (image,label) in dataset:\n",
        "  images = np.array(image)\n",
        "  \n",
        "  #Display first 9 images\n",
        "  plt.figure(figsize=(5,5))\n",
        "  subplot=331\n",
        "  for i in range(9):\n",
        "    img = tf.reshape(images[i,:,:,:],IMG_SHAPE)\n",
        "    plt.subplot(subplot)\n",
        "    plt.axis('off')\n",
        "    plt.imshow(img,cmap='gray')\n",
        "    subplot += 1\n",
        "    if i==8:\n",
        "      break\n",
        "  plt.subplots_adjust(wspace=0.1, hspace=0.1)\n",
        "  plt.show()\n",
        "\n",
        "   \n",
        "   \n",
        "\n",
        "\n",
        "\n",
        "\n"
      ],
      "execution_count": 47,
      "outputs": [
        {
          "output_type": "display_data",
          "data": {
            "image/png": "[encoded data removed]",
            "text/plain": [
              "<Figure size 360x360 with 9 Axes>"
            ]
          },
          "metadata": {
            "tags": [],
            "needs_background": "light"
          }
        }
      ]
    }
  ]
}